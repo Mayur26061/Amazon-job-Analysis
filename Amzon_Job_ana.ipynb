{
 "cells": [
  {
   "cell_type": "markdown",
   "id": "0f62107f",
   "metadata": {},
   "source": [
    "# Using amazon dataset "
   ]
  },
  {
   "cell_type": "code",
   "execution_count": 39,
   "id": "fc69daa2",
   "metadata": {},
   "outputs": [],
   "source": [
    "import pandas as pd\n",
    "import numpy as np\n",
    "import matplotlib.pyplot as plt"
   ]
  },
  {
   "cell_type": "code",
   "execution_count": 40,
   "id": "5d2c5658",
   "metadata": {},
   "outputs": [],
   "source": [
    "#reading file\n",
    "data=pd.read_csv(\"amazon_jobs_dataset.csv\")"
   ]
  },
  {
   "cell_type": "code",
   "execution_count": 89,
   "id": "5ade098d",
   "metadata": {},
   "outputs": [
    {
     "data": {
      "text/html": [
       "<div>\n",
       "<style scoped>\n",
       "    .dataframe tbody tr th:only-of-type {\n",
       "        vertical-align: middle;\n",
       "    }\n",
       "\n",
       "    .dataframe tbody tr th {\n",
       "        vertical-align: top;\n",
       "    }\n",
       "\n",
       "    .dataframe thead th {\n",
       "        text-align: right;\n",
       "    }\n",
       "</style>\n",
       "<table border=\"1\" class=\"dataframe\">\n",
       "  <thead>\n",
       "    <tr style=\"text-align: right;\">\n",
       "      <th></th>\n",
       "      <th>Title</th>\n",
       "      <th>location</th>\n",
       "      <th>Posting_date</th>\n",
       "      <th>DESCRIPTION</th>\n",
       "      <th>BASIC QUALIFICATIONS</th>\n",
       "      <th>PREFERRED QUALIFICATIONS</th>\n",
       "      <th>Myears</th>\n",
       "      <th>year</th>\n",
       "    </tr>\n",
       "  </thead>\n",
       "  <tbody>\n",
       "    <tr>\n",
       "      <th>0</th>\n",
       "      <td>Software Development Manager</td>\n",
       "      <td>US, WA, Seattle</td>\n",
       "      <td>March  1, 2018</td>\n",
       "      <td>You are an experienced hands-on manager with a...</td>\n",
       "      <td>· Proven track record of hiring and managing h...</td>\n",
       "      <td>· Experience building extremely high volume an...</td>\n",
       "      <td>2018</td>\n",
       "      <td>2018-03-01</td>\n",
       "    </tr>\n",
       "    <tr>\n",
       "      <th>1</th>\n",
       "      <td>Software Development Engineer</td>\n",
       "      <td>IN, KA, Bangalore</td>\n",
       "      <td>March  1, 2018</td>\n",
       "      <td>Amazon is driven by being “the world’s most cu...</td>\n",
       "      <td>· Bachelor’s Degree in Computer Science or rel...</td>\n",
       "      <td>· Experience building complex software systems...</td>\n",
       "      <td>2018</td>\n",
       "      <td>2018-03-01</td>\n",
       "    </tr>\n",
       "    <tr>\n",
       "      <th>2</th>\n",
       "      <td>Software Development Engineer</td>\n",
       "      <td>IN, KA, Bangalore</td>\n",
       "      <td>March  1, 2018</td>\n",
       "      <td>Amazon is driven by being “the world’s most cu...</td>\n",
       "      <td>· Bachelor’s Degree in Computer Science or rel...</td>\n",
       "      <td>· Experience building complex software systems...</td>\n",
       "      <td>2018</td>\n",
       "      <td>2018-03-01</td>\n",
       "    </tr>\n",
       "    <tr>\n",
       "      <th>3</th>\n",
       "      <td>Software Development Engineer - Amazon Lex</td>\n",
       "      <td>US, WA, Seattle</td>\n",
       "      <td>March  1, 2018</td>\n",
       "      <td>Have you ever wondered what it takes to build ...</td>\n",
       "      <td>· Bachelors Degree in Computer Science or a re...</td>\n",
       "      <td>· Masters or PhD in Computer Science· Experien...</td>\n",
       "      <td>2018</td>\n",
       "      <td>2018-03-01</td>\n",
       "    </tr>\n",
       "    <tr>\n",
       "      <th>4</th>\n",
       "      <td>Software Development Engineer - Amazon Lex</td>\n",
       "      <td>US, WA, Seattle</td>\n",
       "      <td>March  1, 2018</td>\n",
       "      <td>Have you ever wondered what it takes to build ...</td>\n",
       "      <td>· Bachelors Degree in Computer Science or a re...</td>\n",
       "      <td>· Masters or PhD in Computer Science· Experien...</td>\n",
       "      <td>2018</td>\n",
       "      <td>2018-03-01</td>\n",
       "    </tr>\n",
       "    <tr>\n",
       "      <th>...</th>\n",
       "      <td>...</td>\n",
       "      <td>...</td>\n",
       "      <td>...</td>\n",
       "      <td>...</td>\n",
       "      <td>...</td>\n",
       "      <td>...</td>\n",
       "      <td>...</td>\n",
       "      <td>...</td>\n",
       "    </tr>\n",
       "    <tr>\n",
       "      <th>3488</th>\n",
       "      <td>Software Engineer</td>\n",
       "      <td>US, NV, Las Vegas</td>\n",
       "      <td>August 29, 2012</td>\n",
       "      <td>What are you currently doing? We’re building a...</td>\n",
       "      <td>· 5+ years production Java software developmen...</td>\n",
       "      <td>· 7+ years Java software development in a prod...</td>\n",
       "      <td>2012</td>\n",
       "      <td>2012-08-29</td>\n",
       "    </tr>\n",
       "    <tr>\n",
       "      <th>3489</th>\n",
       "      <td>Software Development Engineer</td>\n",
       "      <td>US, WA, Seattle</td>\n",
       "      <td>April 23, 2012</td>\n",
       "      <td>At Amazon Voice and Advanced Natural Shopping ...</td>\n",
       "      <td>* Bachelor’s Degree in Computer Science or rel...</td>\n",
       "      <td>* Experience building complex software systems...</td>\n",
       "      <td>2012</td>\n",
       "      <td>2012-04-23</td>\n",
       "    </tr>\n",
       "    <tr>\n",
       "      <th>3490</th>\n",
       "      <td>Software Development Engineer III - Mar. BR 2012</td>\n",
       "      <td>US, WA, Seattle</td>\n",
       "      <td>March  6, 2012</td>\n",
       "      <td>Employer: Amazon Corporate LLCPosition: Softwa...</td>\n",
       "      <td>Basic Qualifications:Education: Master’s degre...</td>\n",
       "      <td>-</td>\n",
       "      <td>2012</td>\n",
       "      <td>2012-03-06</td>\n",
       "    </tr>\n",
       "    <tr>\n",
       "      <th>3491</th>\n",
       "      <td>Software Development Engineer in Test II - IMM546</td>\n",
       "      <td>US, WA, Seattle</td>\n",
       "      <td>November 28, 2011</td>\n",
       "      <td>POSITIONS AVAILABLECompany: Amazon Corporate L...</td>\n",
       "      <td>-</td>\n",
       "      <td>-</td>\n",
       "      <td>2011</td>\n",
       "      <td>2011-11-28</td>\n",
       "    </tr>\n",
       "    <tr>\n",
       "      <th>3492</th>\n",
       "      <td>Software Development Engineer in Test</td>\n",
       "      <td>US, WA, Seattle</td>\n",
       "      <td>July  7, 2011</td>\n",
       "      <td>Kindle and Amazon are impacting the world with...</td>\n",
       "      <td>· Bachelor’s degree in Computer Science, Compu...</td>\n",
       "      <td>· Experience with open source tools and resour...</td>\n",
       "      <td>2011</td>\n",
       "      <td>2011-07-07</td>\n",
       "    </tr>\n",
       "  </tbody>\n",
       "</table>\n",
       "<p>3493 rows × 8 columns</p>\n",
       "</div>"
      ],
      "text/plain": [
       "                                                  Title            location  \\\n",
       "0                          Software Development Manager    US, WA, Seattle    \n",
       "1                         Software Development Engineer  IN, KA, Bangalore    \n",
       "2                         Software Development Engineer  IN, KA, Bangalore    \n",
       "3            Software Development Engineer - Amazon Lex    US, WA, Seattle    \n",
       "4            Software Development Engineer - Amazon Lex    US, WA, Seattle    \n",
       "...                                                 ...                 ...   \n",
       "3488                                  Software Engineer  US, NV, Las Vegas    \n",
       "3489                      Software Development Engineer    US, WA, Seattle    \n",
       "3490   Software Development Engineer III - Mar. BR 2012    US, WA, Seattle    \n",
       "3491  Software Development Engineer in Test II - IMM546    US, WA, Seattle    \n",
       "3492              Software Development Engineer in Test    US, WA, Seattle    \n",
       "\n",
       "           Posting_date                                        DESCRIPTION  \\\n",
       "0        March  1, 2018  You are an experienced hands-on manager with a...   \n",
       "1        March  1, 2018  Amazon is driven by being “the world’s most cu...   \n",
       "2        March  1, 2018  Amazon is driven by being “the world’s most cu...   \n",
       "3        March  1, 2018  Have you ever wondered what it takes to build ...   \n",
       "4        March  1, 2018  Have you ever wondered what it takes to build ...   \n",
       "...                 ...                                                ...   \n",
       "3488    August 29, 2012  What are you currently doing? We’re building a...   \n",
       "3489     April 23, 2012  At Amazon Voice and Advanced Natural Shopping ...   \n",
       "3490     March  6, 2012  Employer: Amazon Corporate LLCPosition: Softwa...   \n",
       "3491  November 28, 2011  POSITIONS AVAILABLECompany: Amazon Corporate L...   \n",
       "3492      July  7, 2011  Kindle and Amazon are impacting the world with...   \n",
       "\n",
       "                                   BASIC QUALIFICATIONS  \\\n",
       "0     · Proven track record of hiring and managing h...   \n",
       "1     · Bachelor’s Degree in Computer Science or rel...   \n",
       "2     · Bachelor’s Degree in Computer Science or rel...   \n",
       "3     · Bachelors Degree in Computer Science or a re...   \n",
       "4     · Bachelors Degree in Computer Science or a re...   \n",
       "...                                                 ...   \n",
       "3488  · 5+ years production Java software developmen...   \n",
       "3489  * Bachelor’s Degree in Computer Science or rel...   \n",
       "3490  Basic Qualifications:Education: Master’s degre...   \n",
       "3491                                                  -   \n",
       "3492  · Bachelor’s degree in Computer Science, Compu...   \n",
       "\n",
       "                               PREFERRED QUALIFICATIONS  Myears       year  \n",
       "0     · Experience building extremely high volume an...    2018 2018-03-01  \n",
       "1     · Experience building complex software systems...    2018 2018-03-01  \n",
       "2     · Experience building complex software systems...    2018 2018-03-01  \n",
       "3     · Masters or PhD in Computer Science· Experien...    2018 2018-03-01  \n",
       "4     · Masters or PhD in Computer Science· Experien...    2018 2018-03-01  \n",
       "...                                                 ...     ...        ...  \n",
       "3488  · 7+ years Java software development in a prod...    2012 2012-08-29  \n",
       "3489  * Experience building complex software systems...    2012 2012-04-23  \n",
       "3490                                                  -    2012 2012-03-06  \n",
       "3491                                                  -    2011 2011-11-28  \n",
       "3492  · Experience with open source tools and resour...    2011 2011-07-07  \n",
       "\n",
       "[3493 rows x 8 columns]"
      ]
     },
     "execution_count": 89,
     "metadata": {},
     "output_type": "execute_result"
    }
   ],
   "source": [
    "data"
   ]
  },
  {
   "cell_type": "code",
   "execution_count": 88,
   "id": "85ceb468",
   "metadata": {},
   "outputs": [],
   "source": [
    "# Converting string date to date formate\n",
    "data['year']=pd.to_datetime(data['Posting_date'])"
   ]
  },
  {
   "cell_type": "markdown",
   "id": "7f1f2afa",
   "metadata": {},
   "source": [
    "# Plotting year -wise jobs posting"
   ]
  },
  {
   "cell_type": "code",
   "execution_count": 42,
   "id": "be8be9ad",
   "metadata": {},
   "outputs": [],
   "source": [
    "# Separting  years \n",
    "data['Myears']=data['year'].dt.year"
   ]
  },
  {
   "cell_type": "code",
   "execution_count": 43,
   "id": "fc102580",
   "metadata": {},
   "outputs": [],
   "source": [
    "data.drop('year',inplace=True,axis=1)"
   ]
  },
  {
   "cell_type": "code",
   "execution_count": 44,
   "id": "2291a76d",
   "metadata": {},
   "outputs": [
    {
     "data": {
      "text/plain": [
       "Index(['Unnamed: 0', 'Title', 'location', 'Posting_date', 'DESCRIPTION',\n",
       "       'BASIC QUALIFICATIONS', 'PREFERRED QUALIFICATIONS', 'Myears'],\n",
       "      dtype='object')"
      ]
     },
     "execution_count": 44,
     "metadata": {},
     "output_type": "execute_result"
    }
   ],
   "source": [
    "data.columns"
   ]
  },
  {
   "cell_type": "code",
   "execution_count": 45,
   "id": "ed392d9b",
   "metadata": {},
   "outputs": [],
   "source": [
    "data.drop('Unnamed: 0',axis=1,inplace=True)"
   ]
  },
  {
   "cell_type": "code",
   "execution_count": 73,
   "id": "6e348b0d",
   "metadata": {},
   "outputs": [],
   "source": [
    "job=[]"
   ]
  },
  {
   "cell_type": "code",
   "execution_count": 74,
   "id": "3be1acc0",
   "metadata": {},
   "outputs": [],
   "source": [
    "# extracting no. of rows by years\n",
    "job.append(data[data.Myears==2011].Myears.count())\n",
    "job.append(data[data.Myears==2012].Myears.count())\n",
    "job.append(data[data.Myears==2013].Myears.count())\n",
    "job.append(data[data.Myears==2014].Myears.count())\n",
    "job.append(data[data.Myears==2015].Myears.count())\n",
    "job.append(data[data.Myears==2016].Myears.count())\n",
    "job.append(data[data.Myears==2017].Myears.count())\n",
    "job.append(data[data.Myears==2018].Myears.count())"
   ]
  },
  {
   "cell_type": "code",
   "execution_count": 79,
   "id": "d6aefde5",
   "metadata": {},
   "outputs": [
    {
     "data": {
      "text/plain": [
       "[2, 7, 3, 5, 29, 123, 1614, 1710]"
      ]
     },
     "execution_count": 79,
     "metadata": {},
     "output_type": "execute_result"
    }
   ],
   "source": [
    "job"
   ]
  },
  {
   "cell_type": "code",
   "execution_count": 78,
   "id": "6d090383",
   "metadata": {},
   "outputs": [],
   "source": [
    "years=[2011,2012,2013,2014,2015,2016,2017,2018]"
   ]
  },
  {
   "cell_type": "code",
   "execution_count": 91,
   "id": "cb8d1ed7",
   "metadata": {},
   "outputs": [
    {
     "name": "stdout",
     "output_type": "stream",
     "text": [
      "2011 2\n",
      "2012 7\n",
      "2013 3\n",
      "2014 5\n",
      "2015 29\n",
      "2016 123\n",
      "2017 1614\n",
      "2018 1710\n"
     ]
    }
   ],
   "source": [
    "for i,d in enumerate(years):\n",
    "    print(d,job[i])"
   ]
  },
  {
   "cell_type": "code",
   "execution_count": 87,
   "id": "964b1b01",
   "metadata": {
    "scrolled": true
   },
   "outputs": [
    {
     "data": {
      "image/png": "[encoded data removed]",
      "text/plain": [
       "<Figure size 640x480 with 1 Axes>"
      ]
     },
     "metadata": {},
     "output_type": "display_data"
    }
   ],
   "source": [
    "# plotting graphs\n",
    "plt.plot(years,job,'b',label=\"Jobs\")\n",
    "plt.legend()\n",
    "plt.title(\"Jobs per years\")\n",
    "plt.xlabel('Years')\n",
    "plt.ylabel('Jobs')\n",
    "plt.show()"
   ]
  },
  {
   "cell_type": "code",
   "execution_count": null,
   "id": "0aa40e02",
   "metadata": {},
   "outputs": [],
   "source": []
  },
  {
   "cell_type": "markdown",
   "id": "b675290a",
   "metadata": {},
   "source": [
    "# Bar graph   month vs jobs posting"
   ]
  },
  {
   "cell_type": "code",
   "execution_count": 104,
   "id": "7d349343",
   "metadata": {},
   "outputs": [],
   "source": [
    "data['month']=data['year'].dt.month"
   ]
  },
  {
   "cell_type": "code",
   "execution_count": 176,
   "id": "9e716fe8",
   "metadata": {},
   "outputs": [],
   "source": [
    "m=data['month'].unique()"
   ]
  },
  {
   "cell_type": "code",
   "execution_count": 181,
   "id": "1ac3132b",
   "metadata": {},
   "outputs": [],
   "source": [
    "d=[]\n",
    "for i in m:\n",
    "    d.append((data['month']==i).sum())\n",
    "da=np.array(d)"
   ]
  },
  {
   "cell_type": "code",
   "execution_count": 189,
   "id": "41a20bbf",
   "metadata": {
    "scrolled": true
   },
   "outputs": [
    {
     "data": {
      "image/png": "[encoded data removed]",
      "text/plain": [
       "<Figure size 640x480 with 1 Axes>"
      ]
     },
     "metadata": {},
     "output_type": "display_data"
    }
   ],
   "source": [
    "plt.bar(m,d,width=0.5)\n",
    "plt.xlabel('Months')\n",
    "plt.ylabel('Jobs')\n",
    "plt.xticks(m)\n",
    "plt.show()"
   ]
  },
  {
   "cell_type": "code",
   "execution_count": null,
   "id": "4789a0c1",
   "metadata": {},
   "outputs": [],
   "source": []
  },
  {
   "cell_type": "markdown",
   "id": "ff378ece",
   "metadata": {},
   "source": [
    "# Pie chart  jobs in indian cities"
   ]
  },
  {
   "cell_type": "code",
   "execution_count": 338,
   "id": "62bf27fc",
   "metadata": {},
   "outputs": [],
   "source": [
    "cou=data['location'].str.split(',',n = 3, expand = True)"
   ]
  },
  {
   "cell_type": "code",
   "execution_count": 339,
   "id": "4e7b8d07",
   "metadata": {},
   "outputs": [],
   "source": [
    "cou[2]=cou[2].str.strip(' ')\n",
    "b=np.array(cou[2])"
   ]
  },
  {
   "cell_type": "code",
   "execution_count": 340,
   "id": "8d24e7f9",
   "metadata": {},
   "outputs": [
    {
     "data": {
      "text/plain": [
       "array(['Seattle', 'Bangalore', 'Bangalore', ..., 'Seattle', 'Seattle',\n",
       "       'Seattle'], dtype=object)"
      ]
     },
     "execution_count": 340,
     "metadata": {},
     "output_type": "execute_result"
    }
   ],
   "source": [
    "b"
   ]
  },
  {
   "cell_type": "code",
   "execution_count": 341,
   "id": "bca98d51",
   "metadata": {},
   "outputs": [],
   "source": [
    "data['city']=cou[2]\n",
    "data['Country']=cou[0]\n"
   ]
  },
  {
   "cell_type": "code",
   "execution_count": null,
   "id": "17ade27f",
   "metadata": {},
   "outputs": [],
   "source": []
  },
  {
   "cell_type": "code",
   "execution_count": 342,
   "id": "adaab30f",
   "metadata": {},
   "outputs": [],
   "source": [
    "ind=data[data.Country=='IN']"
   ]
  },
  {
   "cell_type": "code",
   "execution_count": 343,
   "id": "8e0d85fc",
   "metadata": {},
   "outputs": [
    {
     "data": {
      "text/html": [
       "<div>\n",
       "<style scoped>\n",
       "    .dataframe tbody tr th:only-of-type {\n",
       "        vertical-align: middle;\n",
       "    }\n",
       "\n",
       "    .dataframe tbody tr th {\n",
       "        vertical-align: top;\n",
       "    }\n",
       "\n",
       "    .dataframe thead th {\n",
       "        text-align: right;\n",
       "    }\n",
       "</style>\n",
       "<table border=\"1\" class=\"dataframe\">\n",
       "  <thead>\n",
       "    <tr style=\"text-align: right;\">\n",
       "      <th></th>\n",
       "      <th>Title</th>\n",
       "      <th>location</th>\n",
       "      <th>Posting_date</th>\n",
       "      <th>DESCRIPTION</th>\n",
       "      <th>BASIC QUALIFICATIONS</th>\n",
       "      <th>PREFERRED QUALIFICATIONS</th>\n",
       "      <th>Myears</th>\n",
       "      <th>year</th>\n",
       "      <th>month</th>\n",
       "      <th>Country</th>\n",
       "      <th>city</th>\n",
       "    </tr>\n",
       "  </thead>\n",
       "  <tbody>\n",
       "    <tr>\n",
       "      <th>1</th>\n",
       "      <td>Software Development Engineer</td>\n",
       "      <td>IN, KA, Bangalore</td>\n",
       "      <td>March  1, 2018</td>\n",
       "      <td>Amazon is driven by being “the world’s most cu...</td>\n",
       "      <td>· Bachelor’s Degree in Computer Science or rel...</td>\n",
       "      <td>· Experience building complex software systems...</td>\n",
       "      <td>2018</td>\n",
       "      <td>2018-03-01</td>\n",
       "      <td>3</td>\n",
       "      <td>IN</td>\n",
       "      <td>Bangalore</td>\n",
       "    </tr>\n",
       "    <tr>\n",
       "      <th>2</th>\n",
       "      <td>Software Development Engineer</td>\n",
       "      <td>IN, KA, Bangalore</td>\n",
       "      <td>March  1, 2018</td>\n",
       "      <td>Amazon is driven by being “the world’s most cu...</td>\n",
       "      <td>· Bachelor’s Degree in Computer Science or rel...</td>\n",
       "      <td>· Experience building complex software systems...</td>\n",
       "      <td>2018</td>\n",
       "      <td>2018-03-01</td>\n",
       "      <td>3</td>\n",
       "      <td>IN</td>\n",
       "      <td>Bangalore</td>\n",
       "    </tr>\n",
       "    <tr>\n",
       "      <th>30</th>\n",
       "      <td>Software Development Engineer</td>\n",
       "      <td>IN, KA, Bangalore</td>\n",
       "      <td>February 28, 2018</td>\n",
       "      <td>Amazon is driven by being “the world’s most cu...</td>\n",
       "      <td>· Bachelor’s Degree in Computer Science or rel...</td>\n",
       "      <td>· Experience building complex software systems...</td>\n",
       "      <td>2018</td>\n",
       "      <td>2018-02-28</td>\n",
       "      <td>2</td>\n",
       "      <td>IN</td>\n",
       "      <td>Bangalore</td>\n",
       "    </tr>\n",
       "    <tr>\n",
       "      <th>31</th>\n",
       "      <td>Software Development Engineer</td>\n",
       "      <td>IN, KA, Bangalore</td>\n",
       "      <td>February 28, 2018</td>\n",
       "      <td>Amazon is driven by being “the world’s most cu...</td>\n",
       "      <td>· Bachelor’s Degree in Computer Science or rel...</td>\n",
       "      <td>· Experience building complex software systems...</td>\n",
       "      <td>2018</td>\n",
       "      <td>2018-02-28</td>\n",
       "      <td>2</td>\n",
       "      <td>IN</td>\n",
       "      <td>Bangalore</td>\n",
       "    </tr>\n",
       "    <tr>\n",
       "      <th>69</th>\n",
       "      <td>Software Development Engineer</td>\n",
       "      <td>IN, TS, Hyderabad</td>\n",
       "      <td>February 27, 2018</td>\n",
       "      <td>Amazon has come a long way since opening on th...</td>\n",
       "      <td>· Bachelor’s degree or higher in Computer Scie...</td>\n",
       "      <td>· Experience in Agile/SCRUM enterprise-scale s...</td>\n",
       "      <td>2018</td>\n",
       "      <td>2018-02-27</td>\n",
       "      <td>2</td>\n",
       "      <td>IN</td>\n",
       "      <td>Hyderabad</td>\n",
       "    </tr>\n",
       "  </tbody>\n",
       "</table>\n",
       "</div>"
      ],
      "text/plain": [
       "                            Title            location       Posting_date  \\\n",
       "1   Software Development Engineer  IN, KA, Bangalore      March  1, 2018   \n",
       "2   Software Development Engineer  IN, KA, Bangalore      March  1, 2018   \n",
       "30  Software Development Engineer  IN, KA, Bangalore   February 28, 2018   \n",
       "31  Software Development Engineer  IN, KA, Bangalore   February 28, 2018   \n",
       "69  Software Development Engineer  IN, TS, Hyderabad   February 27, 2018   \n",
       "\n",
       "                                          DESCRIPTION  \\\n",
       "1   Amazon is driven by being “the world’s most cu...   \n",
       "2   Amazon is driven by being “the world’s most cu...   \n",
       "30  Amazon is driven by being “the world’s most cu...   \n",
       "31  Amazon is driven by being “the world’s most cu...   \n",
       "69  Amazon has come a long way since opening on th...   \n",
       "\n",
       "                                 BASIC QUALIFICATIONS  \\\n",
       "1   · Bachelor’s Degree in Computer Science or rel...   \n",
       "2   · Bachelor’s Degree in Computer Science or rel...   \n",
       "30  · Bachelor’s Degree in Computer Science or rel...   \n",
       "31  · Bachelor’s Degree in Computer Science or rel...   \n",
       "69  · Bachelor’s degree or higher in Computer Scie...   \n",
       "\n",
       "                             PREFERRED QUALIFICATIONS  Myears       year  \\\n",
       "1   · Experience building complex software systems...    2018 2018-03-01   \n",
       "2   · Experience building complex software systems...    2018 2018-03-01   \n",
       "30  · Experience building complex software systems...    2018 2018-02-28   \n",
       "31  · Experience building complex software systems...    2018 2018-02-28   \n",
       "69  · Experience in Agile/SCRUM enterprise-scale s...    2018 2018-02-27   \n",
       "\n",
       "    month Country       city  \n",
       "1       3      IN  Bangalore  \n",
       "2       3      IN  Bangalore  \n",
       "30      2      IN  Bangalore  \n",
       "31      2      IN  Bangalore  \n",
       "69      2      IN  Hyderabad  "
      ]
     },
     "execution_count": 343,
     "metadata": {},
     "output_type": "execute_result"
    }
   ],
   "source": [
    "ind.head()"
   ]
  },
  {
   "cell_type": "code",
   "execution_count": 344,
   "id": "e00ccda5",
   "metadata": {},
   "outputs": [],
   "source": [
    "x=ind.city.unique()"
   ]
  },
  {
   "cell_type": "code",
   "execution_count": 345,
   "id": "cee2abed",
   "metadata": {},
   "outputs": [
    {
     "data": {
      "text/plain": [
       "array(['Bangalore', 'Hyderabad', 'Chennai', 'Gurgaon', 'Pune'],\n",
       "      dtype=object)"
      ]
     },
     "execution_count": 345,
     "metadata": {},
     "output_type": "execute_result"
    }
   ],
   "source": [
    "x"
   ]
  },
  {
   "cell_type": "code",
   "execution_count": 366,
   "id": "0b6f6215",
   "metadata": {},
   "outputs": [],
   "source": [
    "y=[]\n",
    "for i in x:\n",
    "    y.append((ind.city==i).sum())"
   ]
  },
  {
   "cell_type": "code",
   "execution_count": 401,
   "id": "8db88963",
   "metadata": {},
   "outputs": [
    {
     "data": {
      "image/png": "[encoded data removed]",
      "text/plain": [
       "<Figure size 640x480 with 1 Axes>"
      ]
     },
     "metadata": {},
     "output_type": "display_data"
    }
   ],
   "source": [
    "\n",
    "color=['lime','Blue','Yellow','Red','cyan']\n",
    "plt.pie(y,labels=x,autopct='%.f%%',colors=color,startangle=180,counterclock=False)\n",
    "plt.title(\"Indian Cities job\")\n",
    "plt.show()"
   ]
  },
  {
   "cell_type": "code",
   "execution_count": null,
   "id": "bfeb5c46",
   "metadata": {},
   "outputs": [],
   "source": []
  }
 ],
 "metadata": {
  "kernelspec": {
   "display_name": "Python 3 (ipykernel)",
   "language": "python",
   "name": "python3"
  },
  "language_info": {
   "codemirror_mode": {
    "name": "ipython",
    "version": 3
   },
   "file_extension": ".py",
   "mimetype": "text/x-python",
   "name": "python",
   "nbconvert_exporter": "python",
   "pygments_lexer": "ipython3",
   "version": "3.10.7"
  }
 },
 "nbformat": 4,
 "nbformat_minor": 5
}
